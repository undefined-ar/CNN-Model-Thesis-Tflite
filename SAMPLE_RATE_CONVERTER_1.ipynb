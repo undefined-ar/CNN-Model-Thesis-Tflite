{
  "nbformat": 4,
  "nbformat_minor": 0,
  "metadata": {
    "colab": {
      "provenance": []
    },
    "kernelspec": {
      "name": "python3",
      "display_name": "Python 3"
    },
    "language_info": {
      "name": "python"
    }
  },
  "cells": [
    {
      "cell_type": "code",
      "execution_count": null,
      "metadata": {
        "id": "Jyaz_aKw28u1"
      },
      "outputs": [],
      "source": [
        "import librosa\n",
        "import numpy as np # linear algebra\n",
        "import pandas as pd # data processing, CSV file I/O (e.g. pd.read_csv)\n",
        "\n",
        "import os\n",
        "import tensorflow as tf\n",
        "from tensorflow import keras\n",
        "from tensorflow.keras import layers\n",
        "from tensorflow.keras.models import Sequential\n",
        "from tensorflow.keras.layers.experimental import preprocessing\n",
        "from tensorflow.keras import models\n",
        "\n",
        "import matplotlib.pyplot as plt\n",
        "import soundfile as sf\n",
        "import seaborn as sns\n",
        "import math\n",
        "from IPython import display"
      ]
    },
    {
      "cell_type": "code",
      "source": [
        "def absolute_file_paths(directory): #setting path\n",
        "    path = os.path.abspath(directory)\n",
        "    return [entry.name for entry in os.scandir(path) if entry.is_file()]\n",
        "\n",
        "target_convert_dir = \"/content/drive/MyDrive/ml/ml_data/sanzida/Test2/\"\n",
        "scream_paths = absolute_file_paths(\"/content/drive/MyDrive/ml/ml_data/sanzida/Tests/scream/\")\n",
        "non_scream_paths = absolute_file_paths(\"/content/drive/MyDrive/ml/ml_data/sanzida/Tests/non_scream/\")"
      ],
      "metadata": {
        "id": "CAA9KlAe3MAV"
      },
      "execution_count": null,
      "outputs": []
    },
    {
      "cell_type": "code",
      "source": [
        "for scream in scream_paths:\n",
        "    audio_file = \"/content/drive/MyDrive/ml/ml_data/sanzida/Tests/scream/{}\".format(scream)\n",
        "    final_out = \"{}scream/{}\".format(target_convert_dir,scream)\n",
        "    \n",
        "    x, sr = librosa.load(audio_file,16000)\n",
        "    y = librosa.resample(x, sr, 16000)\n",
        "    sf.write(final_out, y, 16000)\n",
        "    #librosa.output.write_wav(final_out, y, sr=16000, norm=False)\n",
        "    "
      ],
      "metadata": {
        "id": "bfLi7Ddk65rn"
      },
      "execution_count": null,
      "outputs": []
    },
    {
      "cell_type": "code",
      "source": [
        "for non_scream in non_scream_paths:\n",
        "    audio_file = \"/content/drive/MyDrive/ml/ml_data/sanzida/Tests/non_scream/{}\".format(non_scream)\n",
        "    final_out = \"{}non_scream/{}\".format(target_convert_dir,non_scream)\n",
        "    \n",
        "    x, sr = librosa.load(audio_file,16000)\n",
        "    y = librosa.resample(x, sr, 16000)\n",
        "    sf.write(final_out, y, 16000)\n",
        "    #librosa.output.write_wav(final_out, y, sr=16000, norm=False)\n",
        "    "
      ],
      "metadata": {
        "id": "UdgCYYek9o1e"
      },
      "execution_count": null,
      "outputs": []
    },
    {
      "cell_type": "code",
      "source": [],
      "metadata": {
        "id": "HL993snq_XnA"
      },
      "execution_count": null,
      "outputs": []
    }
  ]
}